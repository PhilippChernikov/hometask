{
 "cells": [
  {
   "cell_type": "code",
   "execution_count": 8,
   "metadata": {},
   "outputs": [],
   "source": [
    "def gcd(s,r):\n",
    "    while s!=0 and r!=0:\n",
    "        if s>r:\n",
    "            s=s%r\n",
    "        else:\n",
    "            r=r%s\n",
    "    return (r+s)\n",
    "def BezCo(s,r):\n",
    "    if r==0:\n",
    "        return (1,0)\n",
    "    else:\n",
    "        v,u=BezCo(r,s%r)\n",
    "        return(u, v-u*(s//r))\n",
    "def BezId(s,r):\n",
    "    g=gcd(s,r)\n",
    "    (v,u)=BezCo(s,r)\n",
    "    return(g,v,u)"
   ]
  },
  {
   "cell_type": "code",
   "execution_count": 9,
   "metadata": {
    "scrolled": true
   },
   "outputs": [
    {
     "data": {
      "text/plain": [
       "(1, -1, 12)"
      ]
     },
     "execution_count": 9,
     "metadata": {},
     "output_type": "execute_result"
    }
   ],
   "source": [
    "BezId(35,3)"
   ]
  }
 ],
 "metadata": {
  "kernelspec": {
   "display_name": "Python 3",
   "language": "python",
   "name": "python3"
  },
  "language_info": {
   "codemirror_mode": {
    "name": "ipython",
    "version": 3
   },
   "file_extension": ".py",
   "mimetype": "text/x-python",
   "name": "python",
   "nbconvert_exporter": "python",
   "pygments_lexer": "ipython3",
   "version": "3.6.5"
  }
 },
 "nbformat": 4,
 "nbformat_minor": 2
}
