{
 "cells": [
  {
   "cell_type": "code",
   "execution_count": 32,
   "metadata": {},
   "outputs": [],
   "source": [
    "def str_base(value:'int', base: 'int') -> 'str':\n",
    "    v=value\n",
    "    b=base\n",
    "    u=''\n",
    "    while v>0:\n",
    "        if v%b<=9 :\n",
    "            u=chr(48+v%b)+u\n",
    "            v=v//b\n",
    "        else:\n",
    "            u=chr(55+v%b)+u\n",
    "            v=v//b\n",
    "    print(u)\n",
    "    "
   ]
  },
  {
   "cell_type": "code",
   "execution_count": 33,
   "metadata": {},
   "outputs": [
    {
     "name": "stdout",
     "output_type": "stream",
     "text": [
      "GQG2NU\n"
     ]
    }
   ],
   "source": [
    "str_base(880055535,35)"
   ]
  }
 ],
 "metadata": {
  "kernelspec": {
   "display_name": "Python 3",
   "language": "python",
   "name": "python3"
  },
  "language_info": {
   "codemirror_mode": {
    "name": "ipython",
    "version": 3
   },
   "file_extension": ".py",
   "mimetype": "text/x-python",
   "name": "python",
   "nbconvert_exporter": "python",
   "pygments_lexer": "ipython3",
   "version": "3.6.5"
  }
 },
 "nbformat": 4,
 "nbformat_minor": 2
}
