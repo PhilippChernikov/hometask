{
 "cells": [
  {
   "cell_type": "code",
   "execution_count": 3,
   "metadata": {},
   "outputs": [],
   "source": [
    "def str_base(value: 'int', base: 'int') -> 'str':\n",
    "    v = value  # Интересующее число.\n",
    "    b = base  # Интересующее основание.\n",
    "    u = '' #Запись числа \"v\" в системе счисления с основанием \"b\" с помощью строки.\n",
    "    while v > 0: #Число будем поэтапно конкатенировать.\n",
    "        if v % b <= 9:\n",
    "            u = chr(48 + v % b) + u #Первое слогаемое -символ от 0 до 9.Выводится через номер в Unicode.\n",
    "            v = v // b\n",
    "        else:\n",
    "            u = chr(55 + v % b) + u #Первое слогаемое-буквы от A и дальше (в зависимости от \"b\").\n",
    "            v = v // b\n",
    "    return(u)"
   ]
  },
  {
   "cell_type": "code",
   "execution_count": 4,
   "metadata": {},
   "outputs": [
    {
     "data": {
      "text/plain": [
       "'GQG2NU'"
      ]
     },
     "execution_count": 4,
     "metadata": {},
     "output_type": "execute_result"
    }
   ],
   "source": [
    "str_base(880055535,35)"
   ]
  }
 ],
 "metadata": {
  "kernelspec": {
   "display_name": "Python 3",
   "language": "python",
   "name": "python3"
  },
  "language_info": {
   "codemirror_mode": {
    "name": "ipython",
    "version": 3
   },
   "file_extension": ".py",
   "mimetype": "text/x-python",
   "name": "python",
   "nbconvert_exporter": "python",
   "pygments_lexer": "ipython3",
   "version": "3.6.5"
  }
 },
 "nbformat": 4,
 "nbformat_minor": 2
}
